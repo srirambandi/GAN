{
  "nbformat": 4,
  "nbformat_minor": 0,
  "metadata": {
    "kernelspec": {
      "display_name": "Python 3",
      "language": "python",
      "name": "python3"
    },
    "language_info": {
      "codemirror_mode": {
        "name": "ipython",
        "version": 3
      },
      "file_extension": ".py",
      "mimetype": "text/x-python",
      "name": "python",
      "nbconvert_exporter": "python",
      "pygments_lexer": "ipython3",
      "version": "3.7.6"
    },
    "colab": {
      "name": "wgan.ipynb",
      "provenance": [],
      "include_colab_link": true
    }
  },
  "cells": [
    {
      "cell_type": "markdown",
      "metadata": {
        "id": "view-in-github",
        "colab_type": "text"
      },
      "source": [
        "<a href=\"https://colab.research.google.com/github/srirambandi/GAN/blob/master/wgan.ipynb\" target=\"_parent\"><img src=\"https://colab.research.google.com/assets/colab-badge.svg\" alt=\"Open In Colab\"/></a>"
      ]
    },
    {
      "cell_type": "code",
      "metadata": {
        "id": "Pk-FsI3wcrMJ",
        "colab_type": "code",
        "colab": {
          "base_uri": "https://localhost:8080/",
          "height": 1000
        },
        "outputId": "c8a50628-c4cc-44ac-f234-5d1106702f40"
      },
      "source": [
        "# when running in colab notebooks, first install library\n",
        "!pip install import-ai\n",
        "# upload respective dataset manually from examples directory of the library or download as below\n",
        "!apt install subversion\n",
        "!svn checkout https://github.com/srirambandi/ai/trunk/examples/MNIST"
      ],
      "execution_count": 1,
      "outputs": [
        {
          "output_type": "stream",
          "text": [
            "Collecting import-ai\n",
            "  Downloading https://files.pythonhosted.org/packages/16/c9/61a99b75a3ccd70ddd207ea12e28b9baa17feba9fffb2d7181d03d1b8147/import_ai-1.3.11-py3-none-any.whl\n",
            "Requirement already satisfied: numpy>=1.18.1 in /usr/local/lib/python3.6/dist-packages (from import-ai) (1.18.5)\n",
            "Collecting graphviz>=0.14\n",
            "  Downloading https://files.pythonhosted.org/packages/83/cc/c62100906d30f95d46451c15eb407da7db201e30f42008f3643945910373/graphviz-0.14-py2.py3-none-any.whl\n",
            "Installing collected packages: graphviz, import-ai\n",
            "  Found existing installation: graphviz 0.10.1\n",
            "    Uninstalling graphviz-0.10.1:\n",
            "      Successfully uninstalled graphviz-0.10.1\n",
            "Successfully installed graphviz-0.14 import-ai-1.3.11\n",
            "Reading package lists... Done\n",
            "Building dependency tree       \n",
            "Reading state information... Done\n",
            "The following package was automatically installed and is no longer required:\n",
            "  libnvidia-common-440\n",
            "Use 'apt autoremove' to remove it.\n",
            "The following additional packages will be installed:\n",
            "  libapr1 libaprutil1 libserf-1-1 libsvn1\n",
            "Suggested packages:\n",
            "  db5.3-util libapache2-mod-svn subversion-tools\n",
            "The following NEW packages will be installed:\n",
            "  libapr1 libaprutil1 libserf-1-1 libsvn1 subversion\n",
            "0 upgraded, 5 newly installed, 0 to remove and 59 not upgraded.\n",
            "Need to get 2,237 kB of archives.\n",
            "After this operation, 9,910 kB of additional disk space will be used.\n",
            "Get:1 http://archive.ubuntu.com/ubuntu bionic/main amd64 libapr1 amd64 1.6.3-2 [90.9 kB]\n",
            "Get:2 http://archive.ubuntu.com/ubuntu bionic/main amd64 libaprutil1 amd64 1.6.1-2 [84.4 kB]\n",
            "Get:3 http://archive.ubuntu.com/ubuntu bionic/universe amd64 libserf-1-1 amd64 1.3.9-6 [44.4 kB]\n",
            "Get:4 http://archive.ubuntu.com/ubuntu bionic/universe amd64 libsvn1 amd64 1.9.7-4ubuntu1 [1,183 kB]\n",
            "Get:5 http://archive.ubuntu.com/ubuntu bionic/universe amd64 subversion amd64 1.9.7-4ubuntu1 [834 kB]\n",
            "Fetched 2,237 kB in 1s (2,269 kB/s)\n",
            "Selecting previously unselected package libapr1:amd64.\n",
            "(Reading database ... 144328 files and directories currently installed.)\n",
            "Preparing to unpack .../libapr1_1.6.3-2_amd64.deb ...\n",
            "Unpacking libapr1:amd64 (1.6.3-2) ...\n",
            "Selecting previously unselected package libaprutil1:amd64.\n",
            "Preparing to unpack .../libaprutil1_1.6.1-2_amd64.deb ...\n",
            "Unpacking libaprutil1:amd64 (1.6.1-2) ...\n",
            "Selecting previously unselected package libserf-1-1:amd64.\n",
            "Preparing to unpack .../libserf-1-1_1.3.9-6_amd64.deb ...\n",
            "Unpacking libserf-1-1:amd64 (1.3.9-6) ...\n",
            "Selecting previously unselected package libsvn1:amd64.\n",
            "Preparing to unpack .../libsvn1_1.9.7-4ubuntu1_amd64.deb ...\n",
            "Unpacking libsvn1:amd64 (1.9.7-4ubuntu1) ...\n",
            "Selecting previously unselected package subversion.\n",
            "Preparing to unpack .../subversion_1.9.7-4ubuntu1_amd64.deb ...\n",
            "Unpacking subversion (1.9.7-4ubuntu1) ...\n",
            "Setting up libapr1:amd64 (1.6.3-2) ...\n",
            "Setting up libaprutil1:amd64 (1.6.1-2) ...\n",
            "Setting up libserf-1-1:amd64 (1.3.9-6) ...\n",
            "Setting up libsvn1:amd64 (1.9.7-4ubuntu1) ...\n",
            "Setting up subversion (1.9.7-4ubuntu1) ...\n",
            "Processing triggers for libc-bin (2.27-3ubuntu1) ...\n",
            "/sbin/ldconfig.real: /usr/local/lib/python3.6/dist-packages/ideep4py/lib/libmkldnn.so.0 is not a symbolic link\n",
            "\n",
            "Processing triggers for man-db (2.8.3-2ubuntu0.1) ...\n",
            "A    MNIST/test.npy\n",
            "A    MNIST/train.npy\n",
            "Checked out revision 120.\n"
          ],
          "name": "stdout"
        }
      ]
    },
    {
      "cell_type": "code",
      "metadata": {
        "id": "fSHzfWABegwm",
        "colab_type": "code",
        "colab": {
          "base_uri": "https://localhost:8080/",
          "height": 122
        },
        "outputId": "688543c0-cccf-4293-f11e-3b15d4158a85"
      },
      "source": [
        "from google.colab import drive\n",
        "drive.mount('/content/drive')"
      ],
      "execution_count": 2,
      "outputs": [
        {
          "output_type": "stream",
          "text": [
            "Go to this URL in a browser: https://accounts.google.com/o/oauth2/auth?client_id=947318989803-6bn6qk8qdgf4n4g3pfee6491hc0brc4i.apps.googleusercontent.com&redirect_uri=urn%3aietf%3awg%3aoauth%3a2.0%3aoob&response_type=code&scope=email%20https%3a%2f%2fwww.googleapis.com%2fauth%2fdocs.test%20https%3a%2f%2fwww.googleapis.com%2fauth%2fdrive%20https%3a%2f%2fwww.googleapis.com%2fauth%2fdrive.photos.readonly%20https%3a%2f%2fwww.googleapis.com%2fauth%2fpeopleapi.readonly\n",
            "\n",
            "Enter your authorization code:\n",
            "··········\n",
            "Mounted at /content/drive\n"
          ],
          "name": "stdout"
        }
      ]
    },
    {
      "cell_type": "code",
      "metadata": {
        "id": "Bql-uXp0cqPT",
        "colab_type": "code",
        "colab": {}
      },
      "source": [
        "import ai\n",
        "import numpy as np"
      ],
      "execution_count": 3,
      "outputs": []
    },
    {
      "cell_type": "code",
      "metadata": {
        "id": "Unwx_Hc1cqPZ",
        "colab_type": "code",
        "colab": {}
      },
      "source": [
        "z_dim = 100\n",
        "gf_dim = 64\n",
        "df_dim = 64"
      ],
      "execution_count": 4,
      "outputs": []
    },
    {
      "cell_type": "code",
      "metadata": {
        "id": "xQzdpXIpcyL2",
        "colab_type": "code",
        "colab": {}
      },
      "source": [
        "ai.manual_seed(2357)"
      ],
      "execution_count": 5,
      "outputs": []
    },
    {
      "cell_type": "code",
      "metadata": {
        "id": "MBgfrdNzcqPe",
        "colab_type": "code",
        "colab": {}
      },
      "source": [
        "def data_generator(m):\n",
        "    train_dict = np.load('MNIST/train.npy', allow_pickle=True)\n",
        "    test_dict = np.load('MNIST/test.npy', allow_pickle=True)\n",
        "    data = np.concatenate([train_dict.item()['data'], test_dict.item()['data']])\n",
        "    data = data.transpose(1, 2, 0)   # making data batch-last\n",
        "    data = data.reshape(1, *data.shape) / 127.5 - 1.   # adding channel dimension and normalizing data\n",
        "    epoch = 4\n",
        "    \n",
        "    while True:\n",
        "        epoch += 1\n",
        "        for batch in range(int(data.shape[-1] / m)):\n",
        "            yield data[...,batch * m:(batch + 1) * m], epoch"
      ],
      "execution_count": 6,
      "outputs": []
    },
    {
      "cell_type": "code",
      "metadata": {
        "id": "juS9j_gScqPi",
        "colab_type": "code",
        "colab": {}
      },
      "source": [
        "class Generator(ai.Module):\n",
        "    def __init__(self):\n",
        "        self.g_fc = ai.Linear(z_dim, 8*gf_dim * 2 * 2)\n",
        "        self.g_bn1 = ai.BatchNorm((8*gf_dim, 2, 2))\n",
        "        self.g_deconv1 = ai.ConvTranspose2d(8*gf_dim, 4*gf_dim, kernel_size=5, stride=2, padding=2, a=1)\n",
        "        self.g_bn2 = ai.BatchNorm((4*gf_dim, 4, 4))\n",
        "        self.g_deconv2 = ai.ConvTranspose2d(4*gf_dim, 2*gf_dim, kernel_size=5, stride=2, padding=2, a=0)\n",
        "        self.g_bn3 = ai.BatchNorm((2*gf_dim, 7, 7))\n",
        "        self.g_deconv3 = ai.ConvTranspose2d(2*gf_dim, gf_dim, kernel_size=5, stride=2, padding=2, a=1)\n",
        "        self.g_bn4 = ai.BatchNorm((gf_dim, 14, 14))\n",
        "        self.g_deconv4 = ai.ConvTranspose2d(gf_dim, 1, kernel_size=5, stride=2, padding=2, a=1)\n",
        "        \n",
        "    def forward(self, z):\n",
        "        o1 = ai.G.reshape(self.g_fc(z), (8*gf_dim, 2, 2))\n",
        "        o2 = ai.G.relu(self.g_bn1(o1))\n",
        "        o3 = ai.G.relu(self.g_bn2(self.g_deconv1(o2)))\n",
        "        o4 = ai.G.relu(self.g_bn3(self.g_deconv2(o3)))\n",
        "        o5 = ai.G.relu(self.g_bn4(self.g_deconv3(o4)))\n",
        "        fake_image = ai.G.tanh(self.g_deconv4(o5))\n",
        "        return fake_image"
      ],
      "execution_count": 7,
      "outputs": []
    },
    {
      "cell_type": "code",
      "metadata": {
        "id": "EPElqs6gcqPl",
        "colab_type": "code",
        "colab": {}
      },
      "source": [
        "class Critic(ai.Module):\n",
        "    def __init__(self):\n",
        "        self.d_conv1 = ai.Conv2d(1, 64, kernel_size=5, stride=2, padding=2)\n",
        "        self.d_conv2 = ai.Conv2d(64, 2*64, kernel_size=5, stride=2, padding=2)\n",
        "        self.d_bn1 = ai.BatchNorm((2*64, 7, 7))\n",
        "        self.d_conv3 = ai.Conv2d(2*64, 3*64, kernel_size=5, stride=2, padding=2)\n",
        "        self.d_bn2 = ai.BatchNorm((3*64, 4, 4))\n",
        "        self.d_conv4 = ai.Conv2d(3*64, 4*64, kernel_size=5, stride=2, padding=2)\n",
        "        self.d_bn3 = ai.BatchNorm((4*64, 2, 2))\n",
        "        self.d_fc = ai.Linear(1024, 1)\n",
        "        \n",
        "    def forward(self, image):\n",
        "        o1 = ai.G.lrelu(self.d_conv1(image))\n",
        "        o2 = ai.G.lrelu(self.d_bn1(self.d_conv2(o1)))\n",
        "        o3 = ai.G.lrelu(self.d_bn2(self.d_conv3(o2)))\n",
        "        o4 = ai.G.lrelu(self.d_bn3(self.d_conv4(o3)))\n",
        "        o5 = self.d_fc(o4)\n",
        "        return o5"
      ],
      "execution_count": 8,
      "outputs": []
    },
    {
      "cell_type": "code",
      "metadata": {
        "id": "50IAOgjXcqPr",
        "colab_type": "code",
        "colab": {
          "base_uri": "https://localhost:8080/",
          "height": 442
        },
        "outputId": "0bd0c0bc-8736-4771-9936-b9c3538e22b2"
      },
      "source": [
        "generator = Generator()\n",
        "critic = Critic()\n",
        "generator.load('/content/drive/My Drive/WGAN/Generator.npy')\n",
        "critic.load('/content/drive/My Drive/WGAN/Critic.npy')\n",
        "print(generator)\n",
        "print(critic)"
      ],
      "execution_count": 9,
      "outputs": [
        {
          "output_type": "stream",
          "text": [
            "loading model...\n",
            "Successfully loaded model from /content/drive/My Drive/WGAN/Generator.npy\n",
            "loading model...\n",
            "Successfully loaded model from /content/drive/My Drive/WGAN/Critic.npy\n",
            "Generator(\n",
            "  g_fc: Linear(input_features=100, output_features=2048, bias=True)\n",
            "  g_bn1: BatchNorm((512, 2, 2), axis=-1, momentum=0.9, bias=True)\n",
            "  g_deconv1: ConvTranspose2d(512, 256, kernel_size=(5, 5), stride=(2, 2), padding=(2, 2), a=(1, 1), bias=True)\n",
            "  g_bn2: BatchNorm((256, 4, 4), axis=-1, momentum=0.9, bias=True)\n",
            "  g_deconv2: ConvTranspose2d(256, 128, kernel_size=(5, 5), stride=(2, 2), padding=(2, 2), a=(0, 0), bias=True)\n",
            "  g_bn3: BatchNorm((128, 7, 7), axis=-1, momentum=0.9, bias=True)\n",
            "  g_deconv3: ConvTranspose2d(128, 64, kernel_size=(5, 5), stride=(2, 2), padding=(2, 2), a=(1, 1), bias=True)\n",
            "  g_bn4: BatchNorm((64, 14, 14), axis=-1, momentum=0.9, bias=True)\n",
            "  g_deconv4: ConvTranspose2d(64, 1, kernel_size=(5, 5), stride=(2, 2), padding=(2, 2), a=(1, 1), bias=True)\n",
            ")\n",
            "Critic(\n",
            "  d_conv1: Conv2d(1, 64, kernel_size=(5, 5), stride=(2, 2), padding=(2, 2), bias=True)\n",
            "  d_conv2: Conv2d(64, 128, kernel_size=(5, 5), stride=(2, 2), padding=(2, 2), bias=True)\n",
            "  d_bn1: BatchNorm((128, 7, 7), axis=-1, momentum=0.9, bias=True)\n",
            "  d_conv3: Conv2d(128, 192, kernel_size=(5, 5), stride=(2, 2), padding=(2, 2), bias=True)\n",
            "  d_bn2: BatchNorm((192, 4, 4), axis=-1, momentum=0.9, bias=True)\n",
            "  d_conv4: Conv2d(192, 256, kernel_size=(5, 5), stride=(2, 2), padding=(2, 2), bias=True)\n",
            "  d_bn3: BatchNorm((256, 2, 2), axis=-1, momentum=0.9, bias=True)\n",
            "  d_fc: Linear(input_features=1024, output_features=1, bias=True)\n",
            ")\n"
          ],
          "name": "stdout"
        }
      ]
    },
    {
      "cell_type": "code",
      "metadata": {
        "id": "pYbbyJZBcqPw",
        "colab_type": "code",
        "colab": {}
      },
      "source": [
        "lr = 0.00005\n",
        "c = 0.01\n",
        "g_optim = ai.Optimizer(generator.parameters(), optim_fn='RMSProp', lr=lr)\n",
        "c_optim = ai.Optimizer(critic.parameters(), optim_fn='RMSProp', lr=lr)"
      ],
      "execution_count": 10,
      "outputs": []
    },
    {
      "cell_type": "code",
      "metadata": {
        "id": "uRh7R4j1cqP1",
        "colab_type": "code",
        "colab": {}
      },
      "source": [
        "it, epoch = 0, 0\n",
        "m = 64   # batch size\n",
        "n_critic = 5   # number of critic updates per generator update\n",
        "c = 0.01  # clip value for critic weigthts after each update\n",
        "\n",
        "batch_size = ai.Parameter((1, 1), init_ones=True, constant=float(m), eval_grad=False)   # batch size 'm' as a Parameter constant\n",
        "neg_ones = ai.Parameter((1, 1), init_ones=True, constant=-1.0, eval_grad=False)\n",
        "\n",
        "# real images data generator\n",
        "data = data_generator(m)\n",
        "\n",
        "sample_z = np.random.uniform(-1, 1, (z_dim, m))\n",
        "sampled_images = np.load('/content/drive/My Drive/WGAN/sampled_images.npy')"
      ],
      "execution_count": 11,
      "outputs": []
    },
    {
      "cell_type": "code",
      "metadata": {
        "id": "BLpbkD0LcqP8",
        "colab_type": "code",
        "colab": {}
      },
      "source": [
        "def sampler(sampled_images):\n",
        "    ai.G.grad_mode = False\n",
        "\n",
        "    # generate images like real data\n",
        "    fake_images = generator.forward(sample_z).data\n",
        "    fake_images = (fake_images + 1.) / 2.\n",
        "\n",
        "    if sampled_images is not None:\n",
        "        sampled_images = np.concatenate([sampled_images, fake_images], axis=-1)\n",
        "    else:\n",
        "        sampled_images = fake_images\n",
        "    \n",
        "    ai.G.grad_mode = True\n",
        "\n",
        "    return sampled_images"
      ],
      "execution_count": 12,
      "outputs": []
    },
    {
      "cell_type": "code",
      "metadata": {
        "id": "KKaygbefcqQC",
        "colab_type": "code",
        "colab": {
          "base_uri": "https://localhost:8080/",
          "height": 1000
        },
        "outputId": "cdc3dae9-0595-4325-ebcf-9712d25cbd39"
      },
      "source": [
        "for it in range(801, 10000):\n",
        "\n",
        "    # freeze generator before optimizing critic\n",
        "    for p in generator.parameters():\n",
        "        p.eval_grad = False\n",
        "\n",
        "    # critic_iter = 100 if it < 25 or it%500 == 0 else n_critic\n",
        "\n",
        "    # training critic to identify real/fake data\n",
        "    for _ in range(n_critic):\n",
        "\n",
        "        real_images, epoch = data.__next__()\n",
        "        if (real_images.shape[-1] != m):\n",
        "            continue\n",
        "\n",
        "        c_loss_real = critic.forward(real_images)\n",
        "\n",
        "        z = np.random.randn(z_dim, m)\n",
        "        fake_images = generator.forward(z)\n",
        "\n",
        "        c_loss_fake = critic.forward(fake_images)\n",
        "\n",
        "        # add the above two losses and reduce their mean\n",
        "        c_loss = c_loss_fake - c_loss_real\n",
        "        c_loss = ai.G.sum(c_loss)\n",
        "        c_loss = c_loss / batch_size\n",
        "        c_loss.grad = np.ones(c_loss.shape)\n",
        "\n",
        "        c_loss.backward()\n",
        "        c_optim.step()\n",
        "        c_optim.zero_grad()\n",
        "\n",
        "        ai.clip_grad_value(critic.parameters(), c)\n",
        "\n",
        "    # unfreeze generator\n",
        "    for p in generator.parameters():\n",
        "        p.eval_grad = True\n",
        "\n",
        "    # training generator to fool critic with fake data\n",
        "    z = np.random.uniform(-1, 1, (z_dim, m))\n",
        "    fake_images = generator.forward(z)\n",
        "\n",
        "    g_loss = critic.forward(fake_images)\n",
        "    g_loss = ai.G.sum(g_loss)\n",
        "    g_loss = g_loss / batch_size\n",
        "    g_loss = neg_ones * g_loss\n",
        "    g_loss.grad = np.ones(g_loss.shape)\n",
        "\n",
        "    g_loss.backward()\n",
        "    g_optim.step()\n",
        "    g_optim.zero_grad()\n",
        "    c_optim.zero_grad()\n",
        "\n",
        "    if it%10 == 0:\n",
        "        print('Iter: {}, Epoch: {}, c_loss: {}, g_loss: {}'.format(it, epoch, c_loss.data[0, 0], g_loss.data[0, 0]))\n",
        "    \n",
        "    if it%100 == 0:\n",
        "        sampled_images=sampler(sampled_images)\n",
        "        np.save('/content/drive/My Drive/WGAN/sampled_images.npy', sampled_images)\n",
        "        generator.save('/content/drive/My Drive/WGAN/Generator.npy')\n",
        "        critic.save('/content/drive/My Drive/WGAN/Critic.npy')"
      ],
      "execution_count": null,
      "outputs": [
        {
          "output_type": "stream",
          "text": [
            "using RMSProp\n",
            "using RMSProp\n",
            "Iter: 810, Epoch: 5, c_loss: -82.28760247278562, g_loss: 47.30470590880462\n",
            "Iter: 820, Epoch: 5, c_loss: -93.22299630981915, g_loss: 48.72748898668381\n",
            "Iter: 830, Epoch: 5, c_loss: -92.33837821975597, g_loss: 47.08439306721873\n",
            "Iter: 840, Epoch: 5, c_loss: -84.74563869518815, g_loss: 48.565113019898995\n",
            "Iter: 850, Epoch: 5, c_loss: -94.52167265204166, g_loss: 51.733272645396525\n",
            "Iter: 860, Epoch: 5, c_loss: -98.50248582715783, g_loss: 54.32145464759484\n",
            "Iter: 870, Epoch: 5, c_loss: -97.0117109102957, g_loss: 48.68638564763468\n",
            "Iter: 880, Epoch: 5, c_loss: -93.6751004309065, g_loss: 56.504509515342754\n",
            "Iter: 890, Epoch: 5, c_loss: -99.8204241349606, g_loss: 49.79801198738274\n",
            "Iter: 900, Epoch: 5, c_loss: -102.54040706147053, g_loss: 52.53673407183494\n",
            "saving model...\n",
            "Successfully saved model in /content/drive/My Drive/WGAN/Generator.npy\n",
            "saving model...\n",
            "Successfully saved model in /content/drive/My Drive/WGAN/Critic.npy\n",
            "Iter: 910, Epoch: 5, c_loss: -93.79569635789119, g_loss: 56.836757062469104\n",
            "Iter: 920, Epoch: 5, c_loss: -103.76564784912027, g_loss: 56.163564075907054\n",
            "Iter: 930, Epoch: 5, c_loss: -104.20727071628801, g_loss: 57.61446573224891\n",
            "Iter: 940, Epoch: 5, c_loss: -109.56037072396536, g_loss: 61.1767442195933\n",
            "Iter: 950, Epoch: 5, c_loss: -106.39700084279066, g_loss: 59.94070344971323\n",
            "Iter: 960, Epoch: 5, c_loss: -107.30878435911964, g_loss: 51.71698164698517\n",
            "Iter: 970, Epoch: 5, c_loss: -113.40266686617797, g_loss: 64.50652556832007\n",
            "Iter: 980, Epoch: 5, c_loss: -109.57889840752078, g_loss: 59.66571211800917\n",
            "Iter: 990, Epoch: 5, c_loss: -106.7182546115392, g_loss: 63.17333735351453\n",
            "Iter: 1000, Epoch: 5, c_loss: -111.8003800589202, g_loss: 61.33066561558652\n",
            "saving model...\n",
            "Successfully saved model in /content/drive/My Drive/WGAN/Generator.npy\n",
            "saving model...\n",
            "Successfully saved model in /content/drive/My Drive/WGAN/Critic.npy\n",
            "Iter: 1010, Epoch: 5, c_loss: -96.08429741940104, g_loss: 63.25636890359943\n",
            "Iter: 1020, Epoch: 6, c_loss: -114.07163244623177, g_loss: 65.73699228625313\n",
            "Iter: 1030, Epoch: 6, c_loss: -126.11430497126084, g_loss: 66.27940380098937\n",
            "Iter: 1040, Epoch: 6, c_loss: -118.43509516386445, g_loss: 63.303605760706894\n",
            "Iter: 1050, Epoch: 6, c_loss: -116.4902210205406, g_loss: 68.35392415157621\n",
            "Iter: 1060, Epoch: 6, c_loss: -126.58509668527184, g_loss: 63.23063724195078\n",
            "Iter: 1070, Epoch: 6, c_loss: -123.35989976664054, g_loss: 69.14471616448765\n",
            "Iter: 1080, Epoch: 6, c_loss: -122.18016409035324, g_loss: 76.29153271621206\n",
            "Iter: 1090, Epoch: 6, c_loss: -123.07980941947527, g_loss: 70.66603730004161\n",
            "Iter: 1100, Epoch: 6, c_loss: -135.40682729944785, g_loss: 71.96002338742375\n",
            "saving model...\n",
            "Successfully saved model in /content/drive/My Drive/WGAN/Generator.npy\n",
            "saving model...\n",
            "Successfully saved model in /content/drive/My Drive/WGAN/Critic.npy\n",
            "Iter: 1110, Epoch: 6, c_loss: -130.7277962539233, g_loss: 68.55609382713338\n",
            "Iter: 1120, Epoch: 6, c_loss: -128.4186310423965, g_loss: 74.52742523368312\n",
            "Iter: 1130, Epoch: 6, c_loss: -136.33337515464638, g_loss: 77.4834513858058\n",
            "Iter: 1140, Epoch: 6, c_loss: -135.08586266498048, g_loss: 71.95223611582101\n",
            "Iter: 1150, Epoch: 6, c_loss: -135.04902268446048, g_loss: 78.81109903330682\n",
            "Iter: 1160, Epoch: 6, c_loss: -142.63664147340495, g_loss: 77.81845758102929\n",
            "Iter: 1170, Epoch: 6, c_loss: -140.49587452358267, g_loss: 79.34773812037467\n",
            "Iter: 1180, Epoch: 6, c_loss: -144.9954847153961, g_loss: 74.55404411730953\n",
            "Iter: 1190, Epoch: 6, c_loss: -143.70935556201454, g_loss: 76.20835262744829\n",
            "Iter: 1200, Epoch: 6, c_loss: -131.02346059196057, g_loss: 78.0470167746837\n",
            "saving model...\n",
            "Successfully saved model in /content/drive/My Drive/WGAN/Generator.npy\n",
            "saving model...\n",
            "Successfully saved model in /content/drive/My Drive/WGAN/Critic.npy\n",
            "Iter: 1210, Epoch: 6, c_loss: -137.77171144777634, g_loss: 76.12269742566404\n",
            "Iter: 1220, Epoch: 6, c_loss: -139.13585897692846, g_loss: 86.64361964087747\n",
            "Iter: 1230, Epoch: 6, c_loss: -148.96695221686048, g_loss: 82.84427175871863\n",
            "Iter: 1240, Epoch: 7, c_loss: -152.1383944767938, g_loss: 73.65627963712556\n"
          ],
          "name": "stdout"
        }
      ]
    }
  ]
}